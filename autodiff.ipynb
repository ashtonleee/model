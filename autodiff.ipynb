{
 "cells": [
  {
   "cell_type": "code",
   "execution_count": 264,
   "id": "f9135d1e",
   "metadata": {},
   "outputs": [],
   "source": [
    "import numpy as np\n",
    "from typing import List\n",
    "from collections.abc import Callable\n",
    "import operator as op\n",
    "import math\n",
    "from collections import deque, defaultdict"
   ]
  },
  {
   "cell_type": "code",
   "execution_count": 248,
   "id": "d8e784dc",
   "metadata": {},
   "outputs": [],
   "source": [
    "class Operator:\n",
    "    def __init__(self, op: Callable):\n",
    "        self.op = op\n",
    "    \n",
    "    def eval(self, *args: List[np.number]):\n",
    "        return self.op(*args)\n",
    "\n",
    "class Node:\n",
    "    def __init__(self, op: Callable = None, partials: Callable = None, input_nodes: List['Node'] = None):\n",
    "        self.N = len(input_nodes) if input_nodes else 1\n",
    "        self.input_nodes = [] if input_nodes is None else input_nodes\n",
    "        self.op = Operator(op)\n",
    "        self.partials = partials\n",
    "        self.input_cache = np.zeros(self.N)\n",
    "        \n",
    "        self.reset_gradient()\n",
    "        self.name: str\n",
    "    \n",
    "    def push(self):\n",
    "        for i, node in enumerate(self.input_nodes):\n",
    "            self.input_cache[i] = node.push()\n",
    "        return self.op.eval(*self.input_cache)\n",
    "\n",
    "    def reset_gradient(self):\n",
    "        self.gradient = np.zeros((self.N))"
   ]
  },
  {
   "cell_type": "code",
   "execution_count": 249,
   "id": "4ce85a10",
   "metadata": {},
   "outputs": [],
   "source": [
    "OPS = {'ADD': op.add,\n",
    "       'MULT': op.mul,\n",
    "       'SUB': op.sub,\n",
    "       'DIV': np.divide,\n",
    "       'EXP': math.exp,\n",
    "       'POW': math.pow}\n",
    "\n",
    "class InputNode(Node):\n",
    "    def __init__(self, name: str = \"\"):\n",
    "        super().__init__(partials = lambda: np.array([1]))\n",
    "        self.name = f'Input_{name}'\n",
    "    \n",
    "    def push(self):\n",
    "        return self.op.eval()\n",
    "\n",
    "class AddNode(Node):\n",
    "    def __init__(self, *args: List[Node]):\n",
    "        super().__init__(op = OPS['ADD'], partials = lambda: np.array([1, 1]), input_nodes = args)\n",
    "        self.name = 'Add'\n",
    "\n",
    "class MultNode(Node):\n",
    "    def __init__(self, *args: List[Node]):\n",
    "        super().__init__(op = OPS['MULT'], partials = lambda: self.input_cache[::-1], input_nodes = args)\n",
    "        self.name = 'Mult'\n",
    "\n",
    "class SubNode(Node):\n",
    "    def __init__(self, *args: List[Node]):\n",
    "        super().__init__(op = OPS['SUB'], partials = lambda: np.array([1, -1]), input_nodes = args)\n",
    "        self.name = 'Sub'\n",
    "\n",
    "class DivNode(Node):\n",
    "    def __init__(self, *args: List[Node]):\n",
    "        super().__init__(op = OPS['DIV'], partials = lambda: [1 / self.input_cache[1], -self.input_cache[0] / math.pow(self.input_cache[1], 2)], input_nodes = args)\n",
    "        self.name = 'Div'\n",
    "\n",
    "class ExpNode(Node):\n",
    "    def __init__(self, *args: List[Node]):\n",
    "        super().__init__(op = OPS['EXP'], partials = lambda: [math.exp(self.input_cache[0])], input_nodes = args)\n",
    "        self.name = 'Exp'\n",
    "    \n",
    "class PowNode(Node):\n",
    "    def __init__(self, *args: List[Node]):\n",
    "        super().__init__(op = OPS['POW'], partials = lambda: [math.pow(self.input_cache[0], self.input_cache[1] - 1) if self.input_cache[1] != 0 else math.log(self.input_cache[0]), math.pow(*self.input_cache) * math.log(self.input_cache[0]),], input_nodes = args)\n",
    "        self.name = 'Pow'"
   ]
  },
  {
   "cell_type": "code",
   "execution_count": 259,
   "id": "399bc79e",
   "metadata": {},
   "outputs": [],
   "source": [
    "class Function:\n",
    "    def __init__(self, input_nodes: List[InputNode], output_node: Node):\n",
    "        self.input_nodes = input_nodes\n",
    "        self.output_node = output_node\n",
    "        self.outputs = defaultdict(set)\n",
    "        self.inputs = defaultdict(set)\n",
    "\n",
    "        def dfs(cur: Node):\n",
    "            for node in cur.input_nodes:\n",
    "                self.inputs[cur].add(node)\n",
    "                self.outputs[node].add(cur)\n",
    "                dfs(node)\n",
    "        \n",
    "        dfs(output_node)\n",
    "    \n",
    "    # forward pass\n",
    "    def eval(self, *args: List[np.number]):\n",
    "        if len(args) != len(self.input_nodes):\n",
    "            raise Exception('Length of args mismatch')\n",
    "        for arg, input_node in zip(args, self.input_nodes):\n",
    "            input_node.op = Operator(lambda a=arg: a)\n",
    "        return self.output_node.push()\n",
    "    \n",
    "    # backpropagate\n",
    "    def backward(self):\n",
    "        dq = deque([(self.output_node, 1.0)])\n",
    "        visits = defaultdict(int)\n",
    "\n",
    "        while dq:\n",
    "            cur, partial = dq.popleft()\n",
    "            if visits[cur] == 0:\n",
    "                cur.reset_gradient()\n",
    "            visits[cur] += 1\n",
    "            for i in range(cur.N):\n",
    "                cur.gradient[i] += cur.partials()[i] * partial\n",
    "            if visits[cur] >= len(self.outputs[cur]) and cur.input_nodes:\n",
    "                for i in range(cur.N):\n",
    "                    dq.append((cur.input_nodes[i], cur.gradient[i]))\n",
    "    \n",
    "        for input_node in self.input_nodes:\n",
    "            print(f'{input_node.name}: {input_node.gradient[0]}')"
   ]
  },
  {
   "cell_type": "code",
   "execution_count": 268,
   "id": "51469817",
   "metadata": {},
   "outputs": [
    {
     "name": "stdout",
     "output_type": "stream",
     "text": [
      "-1997.1918622804708\n"
     ]
    }
   ],
   "source": [
    "input_A = InputNode('A')\n",
    "input_B = InputNode('B')\n",
    "input_C = InputNode('C')\n",
    "input_D = InputNode('D')\n",
    "\n",
    "# d - (e^((a+b)*c) / b)\n",
    "add = AddNode(input_A, input_B)\n",
    "mult = MultNode(add, input_C)\n",
    "exp = ExpNode(mult)\n",
    "div = DivNode(exp, input_B)\n",
    "sub = SubNode(input_D, div)\n",
    "pow = PowNode(input_C, input_A)\n",
    "add2 = AddNode(sub, mult)\n",
    "mult2 = MultNode(add2, sub)\n",
    "div2 = DivNode(mult2, exp)\n",
    "exp2 = ExpNode(pow)\n",
    "sub2 = SubNode(exp2, div2)\n",
    "\n",
    "func = Function([input_A, input_B, input_C, input_D], sub2)\n",
    "print(func.eval(1, 2, 3, 4))"
   ]
  },
  {
   "cell_type": "code",
   "execution_count": 269,
   "id": "441859a0",
   "metadata": {},
   "outputs": [
    {
     "name": "stdout",
     "output_type": "stream",
     "text": [
      "Input_A: -6009.596521604817\n",
      "Input_B: -4054.274192775904\n",
      "Input_C: -6055.709637746562\n",
      "Input_D: 0.9979020333305264\n"
     ]
    }
   ],
   "source": [
    "func.backward()"
   ]
  },
  {
   "cell_type": "code",
   "execution_count": 141,
   "id": "f0322466",
   "metadata": {},
   "outputs": [],
   "source": [
    "class Tensor:\n",
    "    def __init__(self, value: np.array):\n",
    "        self.value = value\n",
    "\n",
    "class Layer:\n",
    "    def __init__(self, input_size, output_size):\n",
    "        self.W = Tensor(np.random.rand(input_size, output_size))\n",
    "        self.B = Tensor(np.zeros((input_size, output_size)))\n",
    "\n",
    "class ActivationLayer:\n",
    "    def __init__(self, input_size):\n",
    "        pass\n",
    "\n",
    "class Model:\n",
    "    def __init__():\n",
    "        pass"
   ]
  },
  {
   "cell_type": "code",
   "execution_count": null,
   "id": "705f5ee9",
   "metadata": {},
   "outputs": [],
   "source": []
  }
 ],
 "metadata": {
  "kernelspec": {
   "display_name": "Python 3",
   "language": "python",
   "name": "python3"
  },
  "language_info": {
   "codemirror_mode": {
    "name": "ipython",
    "version": 3
   },
   "file_extension": ".py",
   "mimetype": "text/x-python",
   "name": "python",
   "nbconvert_exporter": "python",
   "pygments_lexer": "ipython3",
   "version": "3.10.12"
  }
 },
 "nbformat": 4,
 "nbformat_minor": 5
}
