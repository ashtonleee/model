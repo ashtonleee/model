{
 "cells": [
  {
   "cell_type": "code",
   "execution_count": 1,
   "id": "40c351ff",
   "metadata": {},
   "outputs": [],
   "source": [
    "import torch\n",
    "from transformer import Transformer"
   ]
  },
  {
   "cell_type": "code",
   "execution_count": 2,
   "id": "aafb74b6",
   "metadata": {},
   "outputs": [],
   "source": [
    "d = 1024        # num dimensions = dim(model)\n",
    "L = 1           # num layers\n",
    "H = 8           # num heads\n",
    "MAXT = 4098     # max tokens\n",
    "V = 4098        # vocab size\n",
    "d_ff = 2048     # dim(FFN hidden layers)\n",
    "p_drop = 0.1    # dropout prob\n",
    "\n",
    "transformer = Transformer(d, L, H, MAXT, V, d_ff, p_drop)"
   ]
  },
  {
   "cell_type": "code",
   "execution_count": 3,
   "id": "54ba3f48",
   "metadata": {},
   "outputs": [
    {
     "name": "stdout",
     "output_type": "stream",
     "text": [
      "torch.Size([1, 256, 4098])\n",
      "tensor([[[ -5.2528,   6.7493, -40.9495,  ...,  32.6766, -42.8255,  51.2090],\n",
      "         [ 28.4006,  24.9023,  33.3292,  ...,  -0.6146, -45.0824,  12.7924],\n",
      "         [ 27.5220, -40.7656,  85.3133,  ...,  -4.0438,  18.6511,   5.0051],\n",
      "         ...,\n",
      "         [ 29.9776, -48.3567,   0.8416,  ...,   6.6796,   0.2191,  50.7047],\n",
      "         [-16.9035, -26.0347,  42.9295,  ..., -12.5362,   8.1216, -87.8209],\n",
      "         [-26.3722, -21.8948, -74.4458,  ...,  -7.3711,  25.3333,  26.9359]]],\n",
      "       grad_fn=<UnsafeViewBackward0>)\n"
     ]
    }
   ],
   "source": [
    "X = torch.randint(V, (1, 256))\n",
    "out = transformer(X)\n",
    "print(out.shape)\n",
    "print(out)"
   ]
  },
  {
   "cell_type": "code",
   "execution_count": null,
   "id": "6053c87c",
   "metadata": {},
   "outputs": [],
   "source": []
  }
 ],
 "metadata": {
  "kernelspec": {
   "display_name": "ashton",
   "language": "python",
   "name": "python3"
  },
  "language_info": {
   "codemirror_mode": {
    "name": "ipython",
    "version": 3
   },
   "file_extension": ".py",
   "mimetype": "text/x-python",
   "name": "python",
   "nbconvert_exporter": "python",
   "pygments_lexer": "ipython3",
   "version": "3.11.13"
  }
 },
 "nbformat": 4,
 "nbformat_minor": 5
}
